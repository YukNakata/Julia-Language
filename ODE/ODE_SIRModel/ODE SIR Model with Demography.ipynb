{
 "cells": [
  {
   "cell_type": "markdown",
   "metadata": {},
   "source": [
    "# ODE SIR Model with Demography \n",
    "# Phase Plane Plot"
   ]
  },
  {
   "cell_type": "code",
   "execution_count": 1,
   "metadata": {},
   "outputs": [
    {
     "data": {
      "text/plain": [
       "Plots.GRBackend()"
      ]
     },
     "execution_count": 1,
     "metadata": {},
     "output_type": "execute_result"
    }
   ],
   "source": [
    "using DifferentialEquations\n",
    "using QuadGK\n",
    "using Plots\n",
    "using Measures\n",
    "gr()"
   ]
  },
  {
   "cell_type": "code",
   "execution_count": 2,
   "metadata": {
    "scrolled": true
   },
   "outputs": [
    {
     "data": {
      "text/plain": [
       "3-element Array{Float64,1}:\n",
       " 0.1\n",
       " 0.5\n",
       " 0.1"
      ]
     },
     "execution_count": 2,
     "metadata": {},
     "output_type": "execute_result"
    }
   ],
   "source": [
    "function odesir(du,u,p,t)\n",
    "  du[1] = p[1]-p[1]*u[1]-p[2]*u[1]*u[2]\n",
    "  du[2] = p[2]*u[1]*u[2]-(p[1]+p[3])*u[2]\n",
    "end\n",
    "\n",
    "#DFR\n",
    "p=[0.1,0.19,0.1]\n",
    "#lags = [p[4]]\n",
    "#EE\n",
    "p=[0.1,0.5,0.1]"
   ]
  },
  {
   "cell_type": "code",
   "execution_count": 3,
   "metadata": {},
   "outputs": [
    {
     "data": {
      "text/plain": [
       "(0.0, 500.0)"
      ]
     },
     "execution_count": 3,
     "metadata": {},
     "output_type": "execute_result"
    }
   ],
   "source": [
    "tspan = (0.0,500.0)"
   ]
  },
  {
   "cell_type": "code",
   "execution_count": 4,
   "metadata": {},
   "outputs": [],
   "source": [
    "u0 = [[0.01,1.0/i] for i=1:5]\n",
    "u0 = [[0.01,0.05*i] for i=1:10]\n",
    "\n",
    "prob = [ODEProblem(odesir,u0[i],tspan,p) for i=1:10];\n",
    "\n",
    "\n"
   ]
  },
  {
   "cell_type": "code",
   "execution_count": 15,
   "metadata": {},
   "outputs": [],
   "source": [
    "\n",
    "sol=solve(prob[1])\n",
    "\n",
    "theme(:default)\n",
    "\n",
    "plot(sol,\n",
    "    vars=(1,2),\n",
    "    linewidth=3,\n",
    "    color=\"#6a656d\",\n",
    "    label=\"\",\n",
    "    xtickfont = font(16),\n",
    "xlim=(0,1),\n",
    "    ytickfont = font(16),\n",
    "    size=(800,400),\n",
    "    bottom_margin=3mm,\n",
    "    right_margin=2mm,\n",
    "#    background_color=\"#e6e6fa\"\n",
    "    ) # legend=false\n",
    "\n",
    "for i=2:5\n",
    "sol=solve(prob[i])\n",
    "plot!(sol,\n",
    "    vars=(1,2),\n",
    "    linewidth=3,\n",
    "    color=\"#6a656d\",\n",
    "    label=\"\",\n",
    "    xtickfont = font(16),\n",
    "xlim=(0,1.1),\n",
    "# ylim=(0,1),\n",
    "    ytickfont = font(16),\n",
    "    size=(900,400),\n",
    "    bottom_margin=3mm,\n",
    "    right_margin=2mm,)\n",
    "\n",
    "sol=solve(prob[i])\n",
    "plot!(sol,\n",
    "    vars=(1,2),\n",
    "    linewidth=3,\n",
    "    color=\"#6a656d\",\n",
    "    label=\"\",\n",
    "    xtickfont = font(16),\n",
    "xlim=(0,1.1),\n",
    "# ylim=(0,1),\n",
    "    ytickfont = font(16),\n",
    "    size=(900,400),\n",
    "    bottom_margin=3mm,\n",
    "    right_margin=2mm,)\n",
    "\n",
    "end"
   ]
  },
  {
   "cell_type": "code",
   "execution_count": 16,
   "metadata": {},
   "outputs": [],
   "source": [
    "savefig(\"SIRODE1.pdf\")"
   ]
  },
  {
   "cell_type": "code",
   "execution_count": 9,
   "metadata": {},
   "outputs": [
    {
     "ename": "UndefVarError",
     "evalue": "UndefVarError: sol not defined",
     "output_type": "error",
     "traceback": [
      "UndefVarError: sol not defined",
      "",
      "Stacktrace:",
      " [1] top-level scope at In[9]:1"
     ]
    }
   ],
   "source": [
    "typeof(sol);"
   ]
  },
  {
   "cell_type": "code",
   "execution_count": 11,
   "metadata": {},
   "outputs": [],
   "source": [
    "for i=1:10\n",
    "    solve(prob[i])\n",
    "end\n",
    "h=(solve(prob[1]),solve(prob[2]),solve(prob[3]),solve(prob[4]),solve(prob[5]),solve(prob[6]),solve(prob[7]),solve(prob[8]),solve(prob[9]),solve(prob[10]));"
   ]
  },
  {
   "cell_type": "code",
   "execution_count": 12,
   "metadata": {},
   "outputs": [],
   "source": [
    "h[5];"
   ]
  },
  {
   "cell_type": "code",
   "execution_count": 13,
   "metadata": {},
   "outputs": [
    {
     "name": "stderr",
     "output_type": "stream",
     "text": [
      "┌ Info: Saved animation to \n",
      "│   fn = /Users/ynakata/Box Sync/Program/Julia_MacbookPro/ScalarDDE/anim_EE.gif\n",
      "└ @ Plots /Users/ynakata/.julia/packages/Plots/Iuc9S/src/animation.jl:95\n"
     ]
    },
    {
     "data": {
      "text/html": [
       "<img src=\"anim_EE.gif\" />"
      ],
      "text/plain": [
       "Plots.AnimatedGif(\"/Users/ynakata/Box Sync/Program/Julia_MacbookPro/ScalarDDE/anim_EE.gif\")"
      ]
     },
     "execution_count": 13,
     "metadata": {},
     "output_type": "execute_result"
    }
   ],
   "source": [
    "anim=@animate for i=0:90\n",
    "\n",
    "plot(h[1],\n",
    "    vars=(1,2),\n",
    "    linewidth=3,\n",
    "    color=\"#6a656d\",\n",
    "    label=\"\",\n",
    "    xtickfont = font(16),\n",
    "xlim=(0,1),\n",
    "    ytickfont = font(16),\n",
    "    size=(800,400),\n",
    "    bottom_margin=3mm,\n",
    "    right_margin=2mm,\n",
    "#    background_color=\"#e6e6fa\"\n",
    "    ) # legend=false\n",
    "    \n",
    "plot!((h[1](i*1)[1],h[1](i*1)[2]), \n",
    "        marker = :circle,\n",
    "        markersize = 6,\n",
    "        label=\"\",\n",
    "        markercolor = \"#00bfff\",\n",
    "        xlim=(0,0.75),\n",
    "        ylim=(0,0.5),)\n",
    "\n",
    "for j=2:10      \n",
    "plot!(h[j],\n",
    "    vars=(1,2),\n",
    "    linewidth=3,\n",
    "    color=\"#6a656d\",\n",
    "    label=\"\",\n",
    "    xtickfont = font(16),\n",
    "xlim=(0,1),\n",
    "    ytickfont = font(16),\n",
    "    size=(800,400),\n",
    "    bottom_margin=3mm,\n",
    "    right_margin=2mm,\n",
    "#    background_color=\"#e6e6fa\"\n",
    "    ) # legend=false\n",
    "plot!((h[j](i*1)[1],h[j](i*1)[2]), \n",
    "        marker = :circle,\n",
    "        label=\"\",\n",
    "        markercolor = \"#00bfff\",\n",
    "            markersize = 6,\n",
    "        xlim=(0,0.75),\n",
    "        ylim=(0,0.5),)\n",
    "end\n",
    "end\n",
    "gif(anim, \"anim_EE.gif\", fps = 12)"
   ]
  },
  {
   "cell_type": "code",
   "execution_count": 14,
   "metadata": {},
   "outputs": [
    {
     "name": "stderr",
     "output_type": "stream",
     "text": [
      "┌ Info: Saved animation to \n",
      "│   fn = /Users/ynakata/Box Sync/Program/Julia_MacbookPro/ScalarDDE/anim.gif\n",
      "└ @ Plots /Users/ynakata/.julia/packages/Plots/Iuc9S/src/animation.jl:95\n"
     ]
    },
    {
     "data": {
      "text/html": [
       "<img src=\"anim.gif\" />"
      ],
      "text/plain": [
       "Plots.AnimatedGif(\"/Users/ynakata/Box Sync/Program/Julia_MacbookPro/ScalarDDE/anim.gif\")"
      ]
     },
     "execution_count": 14,
     "metadata": {},
     "output_type": "execute_result"
    }
   ],
   "source": [
    "gif(anim, \"anim.gif\", fps = 10)"
   ]
  },
  {
   "cell_type": "code",
   "execution_count": null,
   "metadata": {},
   "outputs": [],
   "source": []
  }
 ],
 "metadata": {
  "@webio": {
   "lastCommId": null,
   "lastKernelId": null
  },
  "kernelspec": {
   "display_name": "Julia 1.1.1",
   "language": "julia",
   "name": "julia-1.1"
  },
  "language_info": {
   "file_extension": ".jl",
   "mimetype": "application/julia",
   "name": "julia",
   "version": "1.1.1"
  }
 },
 "nbformat": 4,
 "nbformat_minor": 2
}
