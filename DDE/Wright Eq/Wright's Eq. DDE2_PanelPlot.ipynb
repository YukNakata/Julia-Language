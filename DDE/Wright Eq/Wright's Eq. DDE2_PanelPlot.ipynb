{
 "cells": [
  {
   "cell_type": "markdown",
   "metadata": {},
   "source": [
    "## Wright's eq Delay Differential Equations"
   ]
  },
  {
   "cell_type": "markdown",
   "metadata": {},
   "source": [
    "## Wright Equation \n"
   ]
  },
  {
   "cell_type": "code",
   "execution_count": 1,
   "metadata": {},
   "outputs": [
    {
     "ename": "ArgumentError",
     "evalue": "ArgumentError: Package LaTeXStrings not found in current path:\n- Run `import Pkg; Pkg.add(\"LaTeXStrings\")` to install the LaTeXStrings package.\n",
     "output_type": "error",
     "traceback": [
      "ArgumentError: Package LaTeXStrings not found in current path:\n- Run `import Pkg; Pkg.add(\"LaTeXStrings\")` to install the LaTeXStrings package.\n",
      "",
      "Stacktrace:",
      " [1] require(::Module, ::Symbol) at ./loading.jl:823",
      " [2] top-level scope at In[1]:6"
     ]
    }
   ],
   "source": [
    "using DifferentialEquations\n",
    "using QuadGK\n",
    "using Plots\n",
    "#using Interact\n",
    "using Measures\n",
    "using LaTeXStrings\n",
    "gr()"
   ]
  },
  {
   "cell_type": "code",
   "execution_count": 2,
   "metadata": {},
   "outputs": [
    {
     "ename": "LoadError",
     "evalue": "UndefVarError: @L_str not defined",
     "output_type": "error",
     "traceback": [
      "UndefVarError: @L_str not defined",
      ""
     ]
    }
   ],
   "source": [
    "L\"\\tau\""
   ]
  },
  {
   "cell_type": "code",
   "execution_count": 3,
   "metadata": {},
   "outputs": [
    {
     "data": {
      "text/plain": [
       "retcode: Success\n",
       "Interpolation: specialized 4th order \"free\" interpolation\n",
       "t: 254-element Array{Float64,1}:\n",
       "  0.0                \n",
       "  0.03594431818738023\n",
       "  0.1650753655279688 \n",
       "  0.3551614984381908 \n",
       "  0.5755664734645833 \n",
       "  0.8431623629875817 \n",
       "  1.1432908542832954 \n",
       "  1.477406040468325  \n",
       "  1.8372654962593133 \n",
       "  2.2197028824264113 \n",
       "  2.6194057295766164 \n",
       "  3.032924667774036  \n",
       "  3.4567977939439807 \n",
       "  ⋮                  \n",
       " 75.71049164931387   \n",
       " 75.81923790092071   \n",
       " 75.93109850424061   \n",
       " 76.0479781595004    \n",
       " 76.1728458130344    \n",
       " 76.31040280239145   \n",
       " 76.46880723867451   \n",
       " 76.66475332884605   \n",
       " 76.94409349899556   \n",
       " 77.53576696365745   \n",
       " 79.08888215507767   \n",
       " 80.0                \n",
       "u: 254-element Array{Array{Float64,1},1}:\n",
       " [0.5]        \n",
       " [0.509067]   \n",
       " [0.54302]    \n",
       " [0.597162]   \n",
       " [0.666734]   \n",
       " [0.762185]   \n",
       " [0.88559]    \n",
       " [1.04661]    \n",
       " [1.25293]    \n",
       " [1.51695]    \n",
       " [1.85254]    \n",
       " [2.27804]    \n",
       " [2.81581]    \n",
       " ⋮            \n",
       " [2.33688e-7] \n",
       " [1.97393e-7] \n",
       " [1.58938e-7] \n",
       " [1.18501e-7] \n",
       " [7.91967e-8] \n",
       " [4.46106e-8] \n",
       " [1.82746e-8] \n",
       " [3.51148e-9] \n",
       " [5.24804e-11]\n",
       " [2.06038e-11]\n",
       " [8.73861e-11]\n",
       " [2.1733e-10] "
      ]
     },
     "execution_count": 3,
     "metadata": {},
     "output_type": "execute_result"
    }
   ],
   "source": [
    "\n",
    "\n",
    "function wrightdde(du,u,h,p,t)\n",
    "du[1] = p[2]*u[1]*(1.0-h(p,t-p[1])[1])\n",
    "end\n",
    "\n",
    "# Initial function\n",
    "\n",
    "\n",
    "h(p, t) = 0.5*ones(1)\n",
    "u0 = [0.5]\n",
    "## Initial function\n",
    "\n",
    "p=[4.5,1.0]\n",
    "lags = [p[1]]\n",
    "tspan = (0.0,80.0)\n",
    "\n",
    "prob = DDEProblem(wrightdde,u0,h,tspan,p; constant_lags=lags)\n",
    "\n",
    "#sol = solve(prob)\n",
    "alg = MethodOfSteps(Tsit5())\n",
    "sol = solve(prob,alg,reltol=1e-6)"
   ]
  },
  {
   "cell_type": "code",
   "execution_count": null,
   "metadata": {},
   "outputs": [],
   "source": [
    "plot(sol,\n",
    "    vars=(0,1),\n",
    "    linewidth=4,\n",
    "    color=\"#6a656d\",\n",
    "    label=\"x\",\n",
    "    xtickfont = font(16),\n",
    "#    xticks = 0:2:200,\n",
    "    ytickfont = font(16)) # legend=false\n",
    "x = range(-1,stop=0,length=10)\n",
    "plot!(x,x->1.0,\n",
    "    linewidth=4,\n",
    "    color=\"#FF9900\",label=\"x init\")\n",
    "plot!(xlim=(-1,250))"
   ]
  },
  {
   "cell_type": "code",
   "execution_count": null,
   "metadata": {
    "scrolled": true
   },
   "outputs": [],
   "source": []
  },
  {
   "cell_type": "code",
   "execution_count": null,
   "metadata": {},
   "outputs": [],
   "source": []
  },
  {
   "cell_type": "code",
   "execution_count": null,
   "metadata": {},
   "outputs": [],
   "source": []
  },
  {
   "cell_type": "code",
   "execution_count": null,
   "metadata": {},
   "outputs": [],
   "source": []
  },
  {
   "cell_type": "code",
   "execution_count": null,
   "metadata": {},
   "outputs": [],
   "source": [
    "animw=@animate for i=0:6\n",
    "    \n",
    "p=[i*0.5,1.0]\n",
    "\n",
    "prob = DDEProblem(wrightdde,u0,h,tspan,p; constant_lags=lags)\n",
    "\n",
    "sol = solve(prob,alg,reltol=1e-6)\n",
    "    \n",
    "plot(sol,\n",
    "    vars=(0,1),\n",
    "    linewidth=4,\n",
    "    color=\"#6a656d\",\n",
    "    xtickfont = font(16),\n",
    "    legendtitle=\"tau=$(i*0.5)\",\n",
    "    label=\"\",\n",
    "    ytickfont = font(16),\n",
    "    legendfontsize=12) # legend=false\n",
    "x = range(-i*0.25,stop=0,length=10)\n",
    "plot!(x,x->0.5,\n",
    "    linewidth=4,\n",
    "    color=\"#FF9900\",\n",
    "        label=\"\"\n",
    "    )\n",
    "plot!(xlim=(-1,100))\n",
    "end"
   ]
  },
  {
   "cell_type": "code",
   "execution_count": null,
   "metadata": {},
   "outputs": [],
   "source": [
    "gif(animw, \"anim_delay_Wright.gif\", fps = 1)"
   ]
  },
  {
   "cell_type": "code",
   "execution_count": null,
   "metadata": {},
   "outputs": [],
   "source": [
    "for i=0:12\n",
    "    \n",
    "p=[i*0.25,1.0]\n",
    "\n",
    "prob = DDEProblem(wrightdde,u0,h,tspan,p; constant_lags=lags)\n",
    "\n",
    "sol = solve(prob,alg,reltol=1e-6)\n",
    "    \n",
    "plot(sol,\n",
    "    vars=(0,1),\n",
    "    linewidth=4,\n",
    "    color=\"#008080\",\n",
    "    xtickfont = font(16),\n",
    "    legendtitle=\"tau=$(i*0.25)\",\n",
    "    label=\"\",\n",
    "    ytickfont = font(16),\n",
    "    legendfontsize=12) # legend=false\n",
    "x = range(-i*0.25,stop=0,length=10)\n",
    "plot!(x,x->0.5,\n",
    "    linewidth=4,\n",
    "    color=\"#FF9900\",\n",
    "        label=\"\"\n",
    "    )\n",
    "plot!(xlim=(-1,100))\n",
    "savefig(\"wrightdde_tau=$(i*0.25).pdf\")\n",
    "end"
   ]
  },
  {
   "cell_type": "code",
   "execution_count": null,
   "metadata": {},
   "outputs": [],
   "source": [
    "\n",
    "    \n",
    "p=[0,1.0]\n",
    "\n",
    "prob = DDEProblem(wrightdde,u0,h,tspan,p; constant_lags=lags)\n",
    "\n",
    "sol0 = solve(prob,alg,reltol=1e-6)\n",
    "\n",
    "p=[0.5,1.0]\n",
    "\n",
    "prob = DDEProblem(wrightdde,u0,h,tspan,p; constant_lags=lags)\n",
    "\n",
    "sol1 = solve(prob,alg,reltol=1e-6)\n",
    "\n",
    "p=[1.0,1.0]\n",
    "\n",
    "prob = DDEProblem(wrightdde,u0,h,tspan,p; constant_lags=lags)\n",
    "\n",
    "sol2= solve(prob,alg,reltol=1e-6)\n",
    "\n",
    "p=[1.5,1.0]\n",
    "\n",
    "prob = DDEProblem(wrightdde,u0,h,tspan,p; constant_lags=lags)\n",
    "\n",
    "sol3= solve(prob,alg,reltol=1e-6)\n",
    "\n",
    "p=[2.0,1.0]\n",
    "\n",
    "prob = DDEProblem(wrightdde,u0,h,tspan,p; constant_lags=lags)\n",
    "\n",
    "sol4= solve(prob,alg,reltol=1e-6)\n"
   ]
  },
  {
   "cell_type": "code",
   "execution_count": null,
   "metadata": {},
   "outputs": [],
   "source": [
    "l = @layout [a;b ; c ;d]\n",
    "p2 = plot(sol1,\n",
    "    color=\"#6a656d\",\n",
    "    vars=(0,1),\n",
    "    linewidth=4,\n",
    "    yticks = 0:0.5:1.0,\n",
    "    xtickfont = font(16),\n",
    "    label=\"\",\n",
    "    ytickfont = font(16),\n",
    "    legendfontsize=12,\n",
    "        bottom_margin=3mm,\n",
    "    right_margin=3mm,\n",
    "        legendtitle=\"tau=0.5\") # legend=false\n",
    "p3 = plot(sol2,\n",
    "        color=\"#6a656d\",\n",
    "    vars=(0,1),\n",
    "        yticks = 0:0.5:1.5,\n",
    "    linewidth=4,\n",
    "    xtickfont = font(16),\n",
    "    label=\"\",\n",
    "    ytickfont = font(16),\n",
    "    legendfontsize=12,\n",
    "            legendtitle=\"tau=1.0\") # legend=false\n",
    "p4 = plot(sol3,\n",
    "        color=\"#6a656d\",\n",
    "    vars=(0,1),\n",
    "        yticks = 0:0.5:2.0,\n",
    "    linewidth=4,\n",
    "    xtickfont = font(16),\n",
    "    label=\"\",\n",
    "    ytickfont = font(16),\n",
    "    legendfontsize=12,\n",
    "                legendtitle=\"tau=1.5\") # legend=false\n",
    "\n",
    "p5 = plot(sol4,\n",
    "        color=\"#6a656d\",\n",
    "        yticks = 0:1.0:2.5,\n",
    "    vars=(0,1),\n",
    "    linewidth=4,\n",
    "    xtickfont = font(16),\n",
    "    label=\"\",\n",
    "    ytickfont = font(16),\n",
    "    legendfontsize=12,\n",
    "    legendtitle=\"tau=2.0\",\n",
    "    legend=:bottomright\n",
    ")\n",
    "plot(p2, p3, p4, p5,size = (900, 800), layout = l)"
   ]
  },
  {
   "cell_type": "code",
   "execution_count": null,
   "metadata": {},
   "outputs": [],
   "source": []
  },
  {
   "cell_type": "code",
   "execution_count": null,
   "metadata": {},
   "outputs": [],
   "source": [
    "savefig(\"Wright4.pdf\")"
   ]
  },
  {
   "cell_type": "code",
   "execution_count": null,
   "metadata": {},
   "outputs": [],
   "source": []
  }
 ],
 "metadata": {
  "@webio": {
   "lastCommId": null,
   "lastKernelId": null
  },
  "kernelspec": {
   "display_name": "Julia 1.1.1",
   "language": "julia",
   "name": "julia-1.1"
  },
  "language_info": {
   "file_extension": ".jl",
   "mimetype": "application/julia",
   "name": "julia",
   "version": "1.1.1"
  }
 },
 "nbformat": 4,
 "nbformat_minor": 2
}
